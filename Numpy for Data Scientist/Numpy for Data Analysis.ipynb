{
 "cells": [
  {
   "cell_type": "markdown",
   "id": "88828a73",
   "metadata": {},
   "source": [
    "# Numerical Computation with Numpy"
   ]
  },
  {
   "cell_type": "markdown",
   "id": "853759a6",
   "metadata": {},
   "source": [
    "## Importing Numpy Lib."
   ]
  },
  {
   "cell_type": "code",
   "execution_count": 1,
   "id": "1e51b477",
   "metadata": {},
   "outputs": [],
   "source": [
    "import numpy as np"
   ]
  },
  {
   "cell_type": "markdown",
   "id": "adab6afd",
   "metadata": {},
   "source": [
    "# Creating a Numpy Array"
   ]
  },
  {
   "cell_type": "code",
   "execution_count": 5,
   "id": "9bf26d16",
   "metadata": {},
   "outputs": [
    {
     "data": {
      "text/plain": [
       "array([1., 2., 3., 4.], dtype=float32)"
      ]
     },
     "execution_count": 5,
     "metadata": {},
     "output_type": "execute_result"
    }
   ],
   "source": [
    "# np.array() - create a numpy array\n",
    "\n",
    "# np.array([1,2,3,4], dtype=\"float32\")\n",
    "\n",
    "np.array([1,2,3,4], dtype=np.float32)\n"
   ]
  },
  {
   "cell_type": "code",
   "execution_count": 8,
   "id": "72c607f6",
   "metadata": {},
   "outputs": [
    {
     "data": {
      "text/plain": [
       "array([1.  , 2.2 , 3.45, 4.9 ], dtype=float32)"
      ]
     },
     "execution_count": 8,
     "metadata": {},
     "output_type": "execute_result"
    }
   ],
   "source": [
    "data = [1.0,2.2,3.45,4.90]\n",
    "\n",
    "np.array(data, dtype=np.float32)"
   ]
  },
  {
   "cell_type": "code",
   "execution_count": 9,
   "id": "371995ba",
   "metadata": {},
   "outputs": [
    {
     "data": {
      "text/plain": [
       "array([[1, 2, 3, 4],\n",
       "       [5, 6, 7, 8]])"
      ]
     },
     "execution_count": 9,
     "metadata": {},
     "output_type": "execute_result"
    }
   ],
   "source": [
    "np.array([[1,2,3,4], [5,6,7,8]])"
   ]
  },
  {
   "cell_type": "markdown",
   "id": "3e575d14",
   "metadata": {},
   "source": [
    "## Array of Zeros"
   ]
  },
  {
   "cell_type": "code",
   "execution_count": 10,
   "id": "a1fd5c4e",
   "metadata": {},
   "outputs": [
    {
     "data": {
      "text/plain": [
       "array([0., 0., 0.])"
      ]
     },
     "execution_count": 10,
     "metadata": {},
     "output_type": "execute_result"
    }
   ],
   "source": [
    "np.zeros(3)"
   ]
  },
  {
   "cell_type": "code",
   "execution_count": 12,
   "id": "8166d9da",
   "metadata": {},
   "outputs": [
    {
     "data": {
      "text/plain": [
       "array([[0.],\n",
       "       [0.]])"
      ]
     },
     "execution_count": 12,
     "metadata": {},
     "output_type": "execute_result"
    }
   ],
   "source": [
    "np.zeros((2,1))"
   ]
  },
  {
   "cell_type": "code",
   "execution_count": 14,
   "id": "0d8a14f6",
   "metadata": {},
   "outputs": [
    {
     "data": {
      "text/plain": [
       "array([[0, 0, 0],\n",
       "       [0, 0, 0],\n",
       "       [0, 0, 0]])"
      ]
     },
     "execution_count": 14,
     "metadata": {},
     "output_type": "execute_result"
    }
   ],
   "source": [
    "np.zeros((3,3), dtype=np.int32)"
   ]
  },
  {
   "cell_type": "markdown",
   "id": "c875f184",
   "metadata": {},
   "source": [
    "## Array of Ones"
   ]
  },
  {
   "cell_type": "code",
   "execution_count": 15,
   "id": "7a4e3e0d",
   "metadata": {},
   "outputs": [
    {
     "data": {
      "text/plain": [
       "array([[1, 1, 1],\n",
       "       [1, 1, 1],\n",
       "       [1, 1, 1],\n",
       "       [1, 1, 1]])"
      ]
     },
     "execution_count": 15,
     "metadata": {},
     "output_type": "execute_result"
    }
   ],
   "source": [
    "np.ones((4,3), dtype=np.int32)"
   ]
  },
  {
   "cell_type": "markdown",
   "id": "ab849d6a",
   "metadata": {},
   "source": [
    "## Random numbers in ndarrays"
   ]
  },
  {
   "cell_type": "code",
   "execution_count": 16,
   "id": "5f0eddfe",
   "metadata": {},
   "outputs": [
    {
     "data": {
      "text/plain": [
       "array([[0.34804191, 0.49832706, 0.85438924],\n",
       "       [0.81267609, 0.77293939, 0.5699743 ]])"
      ]
     },
     "execution_count": 16,
     "metadata": {},
     "output_type": "execute_result"
    }
   ],
   "source": [
    "np.random.rand(2,3)"
   ]
  },
  {
   "cell_type": "markdown",
   "id": "5418f5b1",
   "metadata": {},
   "source": [
    "## An array of my choice"
   ]
  },
  {
   "cell_type": "code",
   "execution_count": 20,
   "id": "51a6acea",
   "metadata": {},
   "outputs": [
    {
     "data": {
      "text/plain": [
       "array([[10, 10, 10, 10],\n",
       "       [10, 10, 10, 10],\n",
       "       [10, 10, 10, 10],\n",
       "       [10, 10, 10, 10]])"
      ]
     },
     "execution_count": 20,
     "metadata": {},
     "output_type": "execute_result"
    }
   ],
   "source": [
    "# np.full()\n",
    "\n",
    "np.full((4,4),10)"
   ]
  },
  {
   "cell_type": "markdown",
   "id": "60c8b985",
   "metadata": {},
   "source": [
    "## Imatrix - Indentity Matrix in Numpy"
   ]
  },
  {
   "cell_type": "code",
   "execution_count": 21,
   "id": "d094e99c",
   "metadata": {},
   "outputs": [
    {
     "data": {
      "text/plain": [
       "array([[1., 0., 0.],\n",
       "       [0., 1., 0.],\n",
       "       [0., 0., 1.]])"
      ]
     },
     "execution_count": 21,
     "metadata": {},
     "output_type": "execute_result"
    }
   ],
   "source": [
    "# np.eye()\n",
    "\n",
    "np.eye(3)"
   ]
  },
  {
   "cell_type": "code",
   "execution_count": 29,
   "id": "2ade02c7",
   "metadata": {},
   "outputs": [
    {
     "data": {
      "text/plain": [
       "array([[0., 1., 0.],\n",
       "       [0., 0., 1.],\n",
       "       [0., 0., 0.]])"
      ]
     },
     "execution_count": 29,
     "metadata": {},
     "output_type": "execute_result"
    }
   ],
   "source": [
    "# shift the diagonal\n",
    "np.eye(3,k=1)"
   ]
  },
  {
   "cell_type": "markdown",
   "id": "9d8fe087",
   "metadata": {},
   "source": [
    "## Evenly Spaced array"
   ]
  },
  {
   "cell_type": "code",
   "execution_count": 30,
   "id": "98a90c73",
   "metadata": {},
   "outputs": [
    {
     "data": {
      "text/plain": [
       "array([0, 1, 2, 3, 4, 5, 6, 7, 8])"
      ]
     },
     "execution_count": 30,
     "metadata": {},
     "output_type": "execute_result"
    }
   ],
   "source": [
    "# np.arange\n",
    "\n",
    "np.arange(9)"
   ]
  },
  {
   "cell_type": "code",
   "execution_count": 31,
   "id": "035fb4b7",
   "metadata": {},
   "outputs": [
    {
     "data": {
      "text/plain": [
       "array([ 1,  2,  3,  4,  5,  6,  7,  8,  9, 10, 11])"
      ]
     },
     "execution_count": 31,
     "metadata": {},
     "output_type": "execute_result"
    }
   ],
   "source": [
    "np.arange(1,12)"
   ]
  },
  {
   "cell_type": "code",
   "execution_count": 32,
   "id": "73d29825",
   "metadata": {},
   "outputs": [
    {
     "data": {
      "text/plain": [
       "array([ 1,  4,  7, 10])"
      ]
     },
     "execution_count": 32,
     "metadata": {},
     "output_type": "execute_result"
    }
   ],
   "source": [
    "np.arange(1,12,3)"
   ]
  },
  {
   "cell_type": "code",
   "execution_count": 39,
   "id": "9d89b954",
   "metadata": {},
   "outputs": [
    {
     "data": {
      "text/plain": [
       "array([0.        , 0.02040816, 0.04081633, 0.06122449, 0.08163265,\n",
       "       0.10204082, 0.12244898, 0.14285714, 0.16326531, 0.18367347,\n",
       "       0.20408163, 0.2244898 , 0.24489796, 0.26530612, 0.28571429,\n",
       "       0.30612245, 0.32653061, 0.34693878, 0.36734694, 0.3877551 ,\n",
       "       0.40816327, 0.42857143, 0.44897959, 0.46938776, 0.48979592,\n",
       "       0.51020408, 0.53061224, 0.55102041, 0.57142857, 0.59183673,\n",
       "       0.6122449 , 0.63265306, 0.65306122, 0.67346939, 0.69387755,\n",
       "       0.71428571, 0.73469388, 0.75510204, 0.7755102 , 0.79591837,\n",
       "       0.81632653, 0.83673469, 0.85714286, 0.87755102, 0.89795918,\n",
       "       0.91836735, 0.93877551, 0.95918367, 0.97959184, 1.        ])"
      ]
     },
     "execution_count": 39,
     "metadata": {},
     "output_type": "execute_result"
    }
   ],
   "source": [
    "# np.linespace\n",
    "\n",
    "np.linspace(0,1)"
   ]
  },
  {
   "cell_type": "code",
   "execution_count": 45,
   "id": "0a9440c7",
   "metadata": {},
   "outputs": [
    {
     "data": {
      "text/plain": [
       "array([0. , 0.5, 1. ])"
      ]
     },
     "execution_count": 45,
     "metadata": {},
     "output_type": "execute_result"
    }
   ],
   "source": [
    "np.linspace(0,1,3)"
   ]
  },
  {
   "cell_type": "markdown",
   "id": "5e3991e6",
   "metadata": {},
   "source": [
    "# Shape and Reshaping in Numpy"
   ]
  },
  {
   "cell_type": "code",
   "execution_count": 51,
   "id": "891c1264",
   "metadata": {},
   "outputs": [
    {
     "name": "stdout",
     "output_type": "stream",
     "text": [
      "Array: \n",
      "[[1 2 3]\n",
      " [4 5 6]\n",
      " [7 8 9]]\n",
      "Dimensions: 2\n",
      "Shape: (3, 3)\n",
      "Rows: 3\n",
      "Columns: 3\n"
     ]
    }
   ],
   "source": [
    "# np.ndim  (y) - 1 dim, (x,y) - 2 dim (x,y,z) - 3 dim\n",
    "# np.shape\n",
    "\n",
    "# create an array\n",
    "arr = np.array([[1,2,3], [4,5,6], [7,8,9]], dtype=np.int32)\n",
    "\n",
    "print('Array: \\n{}'.format(arr))\n",
    "print('Dimensions: {}'.format(arr.ndim))\n",
    "print('Shape: {}'.format(arr.shape))\n",
    "print('Rows: {}'.format(arr.shape[0]))\n",
    "print('Columns: {}'.format(arr.shape[1]))"
   ]
  },
  {
   "cell_type": "markdown",
   "id": "4d06016f",
   "metadata": {},
   "source": [
    "## Size of Array"
   ]
  },
  {
   "cell_type": "code",
   "execution_count": 52,
   "id": "0e93d064",
   "metadata": {},
   "outputs": [
    {
     "name": "stdout",
     "output_type": "stream",
     "text": [
      "Size: 9\n"
     ]
    }
   ],
   "source": [
    "# np.size - numbers of items in the array\n",
    "print('Size: {}'.format(arr.size))"
   ]
  },
  {
   "cell_type": "markdown",
   "id": "fca3a1bf",
   "metadata": {},
   "source": [
    "## Reshaping an Array"
   ]
  },
  {
   "cell_type": "code",
   "execution_count": 57,
   "id": "cde393e4",
   "metadata": {},
   "outputs": [
    {
     "name": "stdout",
     "output_type": "stream",
     "text": [
      "Array before reshaping: \n",
      "[3 6 7 8]\n",
      "Array After reshaping: \n",
      "[[3 6]\n",
      " [7 8]]\n"
     ]
    }
   ],
   "source": [
    "# reshape\n",
    "a = np.array([3,6,7,8])\n",
    "b = np.reshape(a, (2,2))\n",
    "\n",
    "print('Array before reshaping: \\n{}'.format(a))\n",
    "print('Array After reshaping: \\n{}'.format(b))"
   ]
  },
  {
   "cell_type": "markdown",
   "id": "b0680b9e",
   "metadata": {},
   "source": [
    "## Flatten an array"
   ]
  },
  {
   "cell_type": "code",
   "execution_count": 58,
   "id": "33db5cf1",
   "metadata": {},
   "outputs": [
    {
     "name": "stdout",
     "output_type": "stream",
     "text": [
      "Array before flatten: \n",
      "[[1. 1.]\n",
      " [1. 1.]]\n",
      "Array after flatten: \n",
      "[1. 1. 1. 1.]\n",
      "Array after ravel: \n",
      "[1. 1. 1. 1.]\n"
     ]
    }
   ],
   "source": [
    "a = np.ones((2,2))\n",
    "b = a.flatten()\n",
    "c = a.ravel()\n",
    "\n",
    "print('Array before flatten: \\n{}'.format(a))\n",
    "print('Array after flatten: \\n{}'.format(b))\n",
    "print('Array after ravel: \\n{}'.format(c))"
   ]
  },
  {
   "cell_type": "markdown",
   "id": "838ee3d8",
   "metadata": {},
   "source": [
    "## Transpose an Array"
   ]
  },
  {
   "cell_type": "code",
   "execution_count": 59,
   "id": "689e4683",
   "metadata": {},
   "outputs": [
    {
     "name": "stdout",
     "output_type": "stream",
     "text": [
      "Array before Transpose: \n",
      "[[1 2 3]\n",
      " [4 5 6]]\n",
      "Array after Transpose: \n",
      "[[1 4]\n",
      " [2 5]\n",
      " [3 6]]\n"
     ]
    }
   ],
   "source": [
    "# Transpose - convert rows to cols and vice versa\n",
    "a = np.array([[1,2,3],[4,5,6]])\n",
    "b = np.transpose(a)\n",
    "\n",
    "print('Array before Transpose: \\n{}'.format(a))\n",
    "print('Array after Transpose: \\n{}'.format(b))"
   ]
  },
  {
   "cell_type": "markdown",
   "id": "4fccffd9",
   "metadata": {},
   "source": [
    "## Expand and Squeeze an Array"
   ]
  },
  {
   "cell_type": "code",
   "execution_count": 61,
   "id": "d0e8bdf3",
   "metadata": {},
   "outputs": [
    {
     "name": "stdout",
     "output_type": "stream",
     "text": [
      "Original Array: \n",
      "[1 2 3]  \n",
      "Shape: (3,)\n",
      "Expand Along Cols: \n",
      "[[1 2 3]] \n",
      "Shape: (1, 3)\n",
      "Expand Along Rows: \n",
      "[[1]\n",
      " [2]\n",
      " [3]] \n",
      "Shape: (3, 1)\n"
     ]
    }
   ],
   "source": [
    "# expand a dimsion\n",
    "a = np.array([1,2,3])\n",
    "b = np.expand_dims(a, axis=0)  # expand col\n",
    "c = np.expand_dims(a, axis=1)  # expand row\n",
    "\n",
    "\n",
    "print('Original Array: \\n{}  \\nShape: {}'.format(a, a.shape))\n",
    "print('Expand Along Cols: \\n{} \\nShape: {}'.format(b, b.shape))\n",
    "print('Expand Along Rows: \\n{} \\nShape: {}'.format(c, c.shape))"
   ]
  },
  {
   "cell_type": "code",
   "execution_count": 62,
   "id": "4e425316",
   "metadata": {},
   "outputs": [
    {
     "name": "stdout",
     "output_type": "stream",
     "text": [
      "Original Array: \n",
      "[[[1 2 3]\n",
      "  [4 5 6]]]  \n",
      "Shape: (1, 2, 3)\n",
      "Squeeze Along Cols: \n",
      "[[1 2 3]\n",
      " [4 5 6]] \n",
      "Shape: (2, 3)\n"
     ]
    }
   ],
   "source": [
    "# squeeze an array\n",
    "a = np.array([[[1,2,3], [4,5,6]]])\n",
    "b = np.squeeze(a, axis=0)\n",
    "\n",
    "\n",
    "print('Original Array: \\n{}  \\nShape: {}'.format(a, a.shape))\n",
    "print('Squeeze Along Cols: \\n{} \\nShape: {}'.format(b, b.shape))"
   ]
  },
  {
   "cell_type": "markdown",
   "id": "4b3e03b4",
   "metadata": {},
   "source": [
    "#  Index and Slice an Array"
   ]
  },
  {
   "cell_type": "code",
   "execution_count": 70,
   "id": "5263b986",
   "metadata": {},
   "outputs": [
    {
     "data": {
      "text/plain": [
       "8"
      ]
     },
     "execution_count": 70,
     "metadata": {},
     "output_type": "execute_result"
    }
   ],
   "source": [
    "a = np.array([1,2,3,4,5,6,7,8])\n",
    "\n",
    "# index\n",
    "a[7]"
   ]
  },
  {
   "cell_type": "code",
   "execution_count": 71,
   "id": "bf7a3eae",
   "metadata": {},
   "outputs": [
    {
     "data": {
      "text/plain": [
       "array([2, 3, 4, 5, 6, 7])"
      ]
     },
     "execution_count": 71,
     "metadata": {},
     "output_type": "execute_result"
    }
   ],
   "source": [
    "# slicing\n",
    "a[1:7]\n"
   ]
  },
  {
   "cell_type": "code",
   "execution_count": 72,
   "id": "d2174883",
   "metadata": {},
   "outputs": [
    {
     "data": {
      "text/plain": [
       "array([2, 4, 6])"
      ]
     },
     "execution_count": 72,
     "metadata": {},
     "output_type": "execute_result"
    }
   ],
   "source": [
    "a[1:7:2] # step 2"
   ]
  },
  {
   "cell_type": "code",
   "execution_count": 86,
   "id": "b182c0f2",
   "metadata": {},
   "outputs": [
    {
     "name": "stdout",
     "output_type": "stream",
     "text": [
      "Array: \n",
      "[[1 2 3 4]\n",
      " [5 6 7 8]]\n",
      "1\n",
      "8\n",
      "7\n",
      "[[1 2]]\n",
      "[7 8]\n",
      "[1 2 3 4]\n"
     ]
    }
   ],
   "source": [
    "# 2 - dimension\n",
    "a = np.array([[1,2,3,4],[5,6,7,8]])\n",
    "\n",
    "#   1 2 3 4\n",
    "#   5 6 7 8\n",
    "\n",
    "print(\"Array: \\n{}\".format(a))\n",
    "print(a[0,0])\n",
    "print(a[1,3])\n",
    "print(a[1,2])\n",
    "\n",
    "print(a[0:1,0:2])\n",
    "print(a[1,2:])\n",
    "print(a[-2])"
   ]
  },
  {
   "cell_type": "markdown",
   "id": "ce119618",
   "metadata": {},
   "source": [
    "# Stacking and Concatenating an array"
   ]
  },
  {
   "cell_type": "code",
   "execution_count": 92,
   "id": "d71e242e",
   "metadata": {},
   "outputs": [
    {
     "name": "stdout",
     "output_type": "stream",
     "text": [
      "Original Arrays: \n",
      "[5 6 7 8 9]  \n",
      "[15 16 17 18 19]\n",
      "Vertical Stacking: \n",
      "[[ 5  6  7  8  9]\n",
      " [15 16 17 18 19]] \n",
      "Size: \n",
      "(2, 5) \n",
      "Horizontal Stacking: \n",
      "[ 5  6  7  8  9 15 16 17 18 19] \n",
      "Size: \n",
      "(10,) \n"
     ]
    }
   ],
   "source": [
    "a = np.arange(5,10)\n",
    "b = np.arange(15,20)\n",
    "\n",
    "c = np.vstack((a,b))\n",
    "d = np.hstack((a,b))\n",
    "\n",
    "print('Original Arrays: \\n{}  \\n{}'.format(a, b))\n",
    "print('Vertical Stacking: \\n{} '.format(c))\n",
    "print('Size: \\n{} '.format(c.shape))\n",
    "\n",
    "print('Horizontal Stacking: \\n{} '.format(d))\n",
    "print('Size: \\n{} '.format(d.shape))\n"
   ]
  },
  {
   "cell_type": "markdown",
   "id": "16f3a8e0",
   "metadata": {},
   "source": [
    "## Concatenate"
   ]
  },
  {
   "cell_type": "code",
   "execution_count": 94,
   "id": "0f5754b7",
   "metadata": {},
   "outputs": [
    {
     "name": "stdout",
     "output_type": "stream",
     "text": [
      "Array 1: \n",
      "[[0 1 2 3 4]]\n",
      "Array 2: \n",
      "[[5 6 7 8 9]]\n",
      "Concatenate along column: \n",
      "[[0 1 2 3 4]\n",
      " [5 6 7 8 9]]\n",
      "Concatenate along row: \n",
      "[[0 1 2 3 4 5 6 7 8 9]]\n"
     ]
    }
   ],
   "source": [
    "a = np.arange(0,5).reshape(1,5)\n",
    "b = np.arange(5,10).reshape(1,5)\n",
    "\n",
    "print('Array 1: \\n{}'.format(a))\n",
    "print('Array 2: \\n{}'.format(b))\n",
    "\n",
    "\n",
    "print('Concatenate along column: \\n{}'.format(np.concatenate((a,b), axis=0)))\n",
    "print('Concatenate along row: \\n{}'.format(np.concatenate((a,b), axis=1)))"
   ]
  },
  {
   "cell_type": "markdown",
   "id": "7d82d868",
   "metadata": {},
   "source": [
    "# Maths with Numpy"
   ]
  },
  {
   "cell_type": "code",
   "execution_count": 99,
   "id": "162cdc65",
   "metadata": {},
   "outputs": [
    {
     "name": "stdout",
     "output_type": "stream",
     "text": [
      "Array:  [[0 1 2 3 4]]\n",
      "Subtract:  [[-5 -4 -3 -2 -1]]\n",
      "Addition:  [[5 6 7 8 9]]\n",
      "Multiplication:  [[ 0  5 10 15 20]]\n",
      "Division:  [[0.  0.2 0.4 0.6 0.8]]\n",
      "Modulos:  [[0 1 2 3 4]]\n",
      "power:  [[   0    1   32  243 1024]]\n"
     ]
    }
   ],
   "source": [
    "a = np.arange(0,5).reshape(1,5)\n",
    "\n",
    "print('Array: ', a)\n",
    "print('Subtract: ', a-5)\n",
    "print('Addition: ', a+5)\n",
    "print('Multiplication: ', a*5)\n",
    "print('Division: ', a/5)\n",
    "print('Modulos: ', a%5)\n",
    "print('power: ', a**5)"
   ]
  },
  {
   "cell_type": "markdown",
   "id": "ebc3114e",
   "metadata": {},
   "source": [
    "## Mean, Median and Standard Deviation"
   ]
  },
  {
   "cell_type": "code",
   "execution_count": 103,
   "id": "e9bd8876",
   "metadata": {},
   "outputs": [
    {
     "name": "stdout",
     "output_type": "stream",
     "text": [
      "Array:  [ 5  7  9 11]\n",
      "Mean:  8.0\n",
      "Median:  8.0\n",
      "Standard Deviation:  2.23606797749979\n"
     ]
    }
   ],
   "source": [
    "a = np.arange(5,12,2)\n",
    "\n",
    "print('Array: ', a)\n",
    "print('Mean: ', np.mean(a))\n",
    "print('Median: ', np.median(a))\n",
    "print('Standard Deviation: ', np.std(a))"
   ]
  },
  {
   "cell_type": "markdown",
   "id": "1968410e",
   "metadata": {},
   "source": [
    "## Min and Max"
   ]
  },
  {
   "cell_type": "code",
   "execution_count": 106,
   "id": "c1cd6adf",
   "metadata": {},
   "outputs": [
    {
     "name": "stdout",
     "output_type": "stream",
     "text": [
      "Array:  [[1 2]\n",
      " [3 4]]\n",
      "Min along col:  [1 2]\n",
      "Min along row:  [1 3]\n",
      "Max along col:  [3 4]\n",
      "Max along row:  [2 4]\n"
     ]
    }
   ],
   "source": [
    "a = np.array([[1,2], \n",
    "              [3,4]])\n",
    "print('Array: ', a)\n",
    "print('Min along col: ', np.min(a, axis=0))\n",
    "print('Min along row: ', np.min(a, axis=1))\n",
    "\n",
    "print('Max along col: ', np.max(a, axis=0))\n",
    "print('Max along row: ', np.max(a, axis=1))"
   ]
  },
  {
   "cell_type": "markdown",
   "id": "42e97d1f",
   "metadata": {},
   "source": [
    "## Sort an Array"
   ]
  },
  {
   "cell_type": "code",
   "execution_count": 107,
   "id": "312074c2",
   "metadata": {},
   "outputs": [
    {
     "data": {
      "text/plain": [
       "array([1, 2, 3, 6, 8])"
      ]
     },
     "execution_count": 107,
     "metadata": {},
     "output_type": "execute_result"
    }
   ],
   "source": [
    "a = np.array([1,3,6,8,2])\n",
    "\n",
    "np.sort(a, kind='quicksort')\n"
   ]
  },
  {
   "cell_type": "markdown",
   "id": "2fbdb197",
   "metadata": {},
   "source": [
    "# Additional"
   ]
  },
  {
   "cell_type": "code",
   "execution_count": 122,
   "id": "06f509cb",
   "metadata": {},
   "outputs": [],
   "source": [
    "import numpy as np\n",
    "import matplotlib.pyplot as plt\n",
    "from scipy import misc"
   ]
  },
  {
   "cell_type": "code",
   "execution_count": 118,
   "id": "1b54672b",
   "metadata": {},
   "outputs": [],
   "source": [
    "im = misc.ascent()"
   ]
  },
  {
   "cell_type": "code",
   "execution_count": 120,
   "id": "50c18d50",
   "metadata": {},
   "outputs": [
    {
     "data": {
      "text/plain": [
       "(512, 512)"
      ]
     },
     "execution_count": 120,
     "metadata": {},
     "output_type": "execute_result"
    }
   ],
   "source": [
    "im.shape"
   ]
  },
  {
   "cell_type": "code",
   "execution_count": 124,
   "id": "aebb856a",
   "metadata": {},
   "outputs": [
    {
     "data": {
      "text/plain": [
       "<matplotlib.image.AxesImage at 0x24361307b20>"
      ]
     },
     "execution_count": 124,
     "metadata": {},
     "output_type": "execute_result"
    },
    {
     "data": {
      "image/png": "[encoded data removed]",
      "text/plain": [
       "<Figure size 432x288 with 1 Axes>"
      ]
     },
     "metadata": {
      "needs_background": "light"
     },
     "output_type": "display_data"
    }
   ],
   "source": [
    "plt.gray()\n",
    "plt.imshow(im)"
   ]
  },
  {
   "cell_type": "code",
   "execution_count": null,
   "id": "21a86ddb",
   "metadata": {},
   "outputs": [],
   "source": []
  }
 ],
 "metadata": {
  "kernelspec": {
   "display_name": "Python 3 (ipykernel)",
   "language": "python",
   "name": "python3"
  },
  "language_info": {
   "codemirror_mode": {
    "name": "ipython",
    "version": 3
   },
   "file_extension": ".py",
   "mimetype": "text/x-python",
   "name": "python",
   "nbconvert_exporter": "python",
   "pygments_lexer": "ipython3",
   "version": "3.9.12"
  }
 },
 "nbformat": 4,
 "nbformat_minor": 5
}
